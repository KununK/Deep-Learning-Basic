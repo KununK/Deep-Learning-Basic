{
 "cells": [
  {
   "cell_type": "markdown",
   "id": "546ecbbc",
   "metadata": {},
   "source": [
    "本节课我们讲解了神经网络使用小批量随机梯度下降进行迭代的流程现在我们要整合本节课中所有的代码实现一个完整的训练流程。首先要梳理一下整个流程:"
   ]
  },
  {
   "cell_type": "markdown",
   "id": "380befbc",
   "metadata": {},
   "source": [
    "1)设置步长Ir，动量值gamma，迭代次数epochs，batch_size等信息，(如果需要)设置初始权重wo"
   ]
  },
  {
   "cell_type": "markdown",
   "id": "62d6f937",
   "metadata": {},
   "source": [
    "2)导入数据，将数据切分成batches"
   ]
  },
  {
   "cell_type": "markdown",
   "id": "dd73346d",
   "metadata": {},
   "source": [
    "3)定义神经网络架构"
   ]
  },
  {
   "cell_type": "markdown",
   "id": "aece4ae7",
   "metadata": {},
   "source": [
    "4)定义损失函数L(w)，如果需要的话，将损失函数调整成凸函数以便求解最小值"
   ]
  },
  {
   "cell_type": "markdown",
   "id": "bf8cc948",
   "metadata": {},
   "source": [
    "5)定义所使用的优化算法"
   ]
  },
  {
   "cell_type": "markdown",
   "id": "4da449ef",
   "metadata": {},
   "source": [
    "6)开始在epoches和batch上循环，执行优化算法"
   ]
  },
  {
   "cell_type": "markdown",
   "id": "f8a4f60b",
   "metadata": {},
   "source": [
    "6.1)调整数据结构，确定数据能够在神经网络、损失函数和优化算法中顺利运行"
   ]
  },
  {
   "cell_type": "markdown",
   "id": "fe7aca24",
   "metadata": {},
   "source": [
    "6.2)完成向前传播，计算初始损失"
   ]
  },
  {
   "cell_type": "markdown",
   "id": "18ebf226",
   "metadata": {},
   "source": [
    "6.3)利用反向传播，在损失函数L(w)上对每一个w求偏导数"
   ]
  },
  {
   "cell_type": "markdown",
   "id": "06fe80ab",
   "metadata": {},
   "source": [
    "6.4)选代当前权重"
   ]
  },
  {
   "cell_type": "markdown",
   "id": "2ccfa1a3",
   "metadata": {},
   "source": [
    "6.5)清空本轮梯度"
   ]
  },
  {
   "cell_type": "markdown",
   "id": "fc304741",
   "metadata": {},
   "source": [
    "6.6)完成模型进度与效果监控"
   ]
  },
  {
   "cell_type": "markdown",
   "id": "18257f04",
   "metadata": {},
   "source": [
    "7)输出结果"
   ]
  },
  {
   "cell_type": "markdown",
   "id": "3d8e6e67",
   "metadata": {},
   "source": [
    "    导库，设置各种初始值"
   ]
  },
  {
   "cell_type": "code",
   "execution_count": 2,
   "id": "6127c20e",
   "metadata": {},
   "outputs": [],
   "source": [
    "import torch\n",
    "from torch import nn\n",
    "from torch import optim\n",
    "from torch.nn import functional as F\n",
    "from torch.utils.data import TensorDataset\n",
    "from torch.utils.data import DataLoader\n",
    "\n",
    "#确定数据、确定优先需要设置的值\n",
    "lr = 0.15\n",
    "gamma = 0\n",
    "epochs = 10\n",
    "bs = 128"
   ]
  },
  {
   "cell_type": "markdown",
   "id": "8d9f43b2",
   "metadata": {},
   "source": [
    "    导入数据，分割小批量"
   ]
  },
  {
   "cell_type": "markdown",
   "id": "87df5957",
   "metadata": {},
   "source": [
    "以往我们的做法是："
   ]
  },
  {
   "cell_type": "code",
   "execution_count": 3,
   "id": "f278949a",
   "metadata": {},
   "outputs": [],
   "source": [
    "torch.manual_seed(420)\n",
    "X = torch.rand((50000,20),dtype = torch.float32) * 100\n",
    "y = torch.randint(low = 0,high = 3,size = (50000,1),dtype = torch.float32)\n",
    "data = TensorDataset(X,y)\n",
    "data_withbatch = DataLoader(data,batch_size=bs,shuffle=True)"
   ]
  },
  {
   "cell_type": "markdown",
   "id": "9772ccbc",
   "metadata": {},
   "source": [
    "这次我们要使用PyTorch中自带的数据，MINST-FATION."
   ]
  },
  {
   "cell_type": "code",
   "execution_count": 4,
   "id": "e29cba77",
   "metadata": {},
   "outputs": [],
   "source": [
    "import torchvision\n",
    "import torchvision.transforms as transforms # 处理数据模块"
   ]
  },
  {
   "cell_type": "code",
   "execution_count": 5,
   "id": "6dec688c",
   "metadata": {},
   "outputs": [],
   "source": [
    "# dataloader,TensorDataset - 对数据的结构，归纳方式进行变换\n",
    "# torchvision.transforms - 对数据集的数字本身进行修改"
   ]
  },
  {
   "cell_type": "code",
   "execution_count": 8,
   "id": "0520ee93",
   "metadata": {},
   "outputs": [],
   "source": [
    "# 实例化数据\n",
    "mnist = torchvision.datasets.FashionMNIST(root=\"E:/jupyter/study/caicai/5_神经网络的学习\" # 计算机上某个目录路径\n",
    "                                          ,download = False # 是否允许下载\n",
    "                                          ,train = True # 是否是训练集数据\n",
    "                                          ,transform = transforms.ToTensor() #对数据集进行统一处理\n",
    "                                         )"
   ]
  },
  {
   "cell_type": "code",
   "execution_count": 6,
   "id": "3d9b5052",
   "metadata": {},
   "outputs": [
    {
     "data": {
      "text/plain": [
       "Dataset FashionMNIST\n",
       "    Number of datapoints: 60000\n",
       "    Root location: E:\\jupyter\\study\\caicai\n",
       "    Split: Train\n",
       "    StandardTransform\n",
       "Transform: ToTensor()"
      ]
     },
     "execution_count": 6,
     "metadata": {},
     "output_type": "execute_result"
    }
   ],
   "source": [
    "# 对于数据的一个说明\n",
    "mnist"
   ]
  },
  {
   "cell_type": "code",
   "execution_count": 7,
   "id": "63a36524",
   "metadata": {},
   "outputs": [
    {
     "data": {
      "text/plain": [
       "torch.Size([60000, 28, 28])"
      ]
     },
     "execution_count": 7,
     "metadata": {},
     "output_type": "execute_result"
    }
   ],
   "source": [
    "# 特征张量\n",
    "mnist.data.shape"
   ]
  },
  {
   "cell_type": "markdown",
   "id": "0016bf71",
   "metadata": {},
   "source": [
    "一般图像特征表示为（sample_size, H - height, W - width, C - color） C可以写在H前面也可以写在W后面"
   ]
  },
  {
   "cell_type": "code",
   "execution_count": 8,
   "id": "a5dade9b",
   "metadata": {},
   "outputs": [
    {
     "data": {
      "text/plain": [
       "tensor([0, 1, 2, 3, 4, 5, 6, 7, 8, 9])"
      ]
     },
     "execution_count": 8,
     "metadata": {},
     "output_type": "execute_result"
    }
   ],
   "source": [
    "# 标签\n",
    "mnist.targets.unique()"
   ]
  },
  {
   "cell_type": "code",
   "execution_count": 9,
   "id": "3f88efc1",
   "metadata": {},
   "outputs": [
    {
     "data": {
      "text/plain": [
       "['T-shirt/top',\n",
       " 'Trouser',\n",
       " 'Pullover',\n",
       " 'Dress',\n",
       " 'Coat',\n",
       " 'Sandal',\n",
       " 'Shirt',\n",
       " 'Sneaker',\n",
       " 'Bag',\n",
       " 'Ankle boot']"
      ]
     },
     "execution_count": 9,
     "metadata": {},
     "output_type": "execute_result"
    }
   ],
   "source": [
    "# 标签编码对应真正的类别\n",
    "mnist.classes"
   ]
  },
  {
   "cell_type": "code",
   "execution_count": 10,
   "id": "caedad4f",
   "metadata": {},
   "outputs": [],
   "source": [
    "import os\n",
    "os.environ['KMP_DUPLICATE_LIB_OK']='True'\n",
    "import matplotlib.pyplot as plt\n",
    "import numpy"
   ]
  },
  {
   "cell_type": "code",
   "execution_count": 17,
   "id": "96b81c38",
   "metadata": {},
   "outputs": [
    {
     "data": {
      "text/plain": [
       "torch.Size([1, 28, 28])"
      ]
     },
     "execution_count": 17,
     "metadata": {},
     "output_type": "execute_result"
    }
   ],
   "source": [
    "mnist[10][0].shape"
   ]
  },
  {
   "cell_type": "code",
   "execution_count": 16,
   "id": "4e8ec3b2",
   "metadata": {},
   "outputs": [
    {
     "data": {
      "text/plain": [
       "<matplotlib.image.AxesImage at 0x1b5641ce8e0>"
      ]
     },
     "execution_count": 16,
     "metadata": {},
     "output_type": "execute_result"
    },
    {
     "data": {
      "image/png": "[encoded data removed]",
      "text/plain": [
       "<Figure size 640x480 with 1 Axes>"
      ]
     },
     "metadata": {},
     "output_type": "display_data"
    }
   ],
   "source": [
    "plt.imshow(mnist[10][0].view(28,28).numpy())"
   ]
  },
  {
   "cell_type": "code",
   "execution_count": 18,
   "id": "8fb75000",
   "metadata": {},
   "outputs": [],
   "source": [
    "# TensorDataset 不需要\n",
    "# 小批量划分"
   ]
  },
  {
   "cell_type": "code",
   "execution_count": 4,
   "id": "07b33222",
   "metadata": {},
   "outputs": [],
   "source": [
    "import torch\n",
    "import torch.nn as nn\n",
    "import torch.optim as optim\n",
    "from torch.nn import functional as F\n",
    "from torch.utils.data import DataLoader,TensorDataset\n",
    "import torchvision\n",
    "import torchvision.transforms as transforms"
   ]
  },
  {
   "cell_type": "code",
   "execution_count": 56,
   "id": "cb0ac983",
   "metadata": {},
   "outputs": [],
   "source": [
    "# 确定数据，确定超参数\n",
    "lr = 0.15\n",
    "gamma = 0\n",
    "epochs = 10\n",
    "bs = 128"
   ]
  },
  {
   "cell_type": "code",
   "execution_count": 28,
   "id": "62b503a4",
   "metadata": {},
   "outputs": [],
   "source": [
    "# 实例化数据\n",
    "mnist = torchvision.datasets.FashionMNIST(root=\"E:\\jupyter\\study\\caicai\" # 计算机上某个目录路径\n",
    "                                          ,download = False # 是否允许下载\n",
    "                                          ,train = True # 是否是训练集数据\n",
    "                                          ,transform = transforms.ToTensor() #对数据集进行统一处理\n",
    "                                         )"
   ]
  },
  {
   "cell_type": "code",
   "execution_count": 29,
   "id": "805d72b8",
   "metadata": {},
   "outputs": [],
   "source": [
    "# 放入进行迭代的数据结构是什么样子的\n",
    "batchdata = DataLoader(mnist\n",
    "                      ,batch_size = bs\n",
    "                      ,shuffle = True)"
   ]
  },
  {
   "cell_type": "code",
   "execution_count": 30,
   "id": "c8ec4bdb",
   "metadata": {},
   "outputs": [
    {
     "name": "stdout",
     "output_type": "stream",
     "text": [
      "torch.Size([128, 1, 28, 28])\n",
      "torch.Size([128])\n"
     ]
    }
   ],
   "source": [
    "for x,y in batchdata:\n",
    "    print(x.shape)\n",
    "    print(y.shape)\n",
    "    break;"
   ]
  },
  {
   "cell_type": "code",
   "execution_count": 61,
   "id": "7d1c802b",
   "metadata": {},
   "outputs": [
    {
     "data": {
      "text/plain": [
       "128"
      ]
     },
     "execution_count": 61,
     "metadata": {},
     "output_type": "execute_result"
    }
   ],
   "source": [
    "len(y)"
   ]
  },
  {
   "cell_type": "code",
   "execution_count": 31,
   "id": "77d56671",
   "metadata": {},
   "outputs": [],
   "source": [
    "# 通常 x (500,20) - 20\n",
    "# x - 四维 （128，1*28*28）\n",
    "input_ = mnist.data[0].numel() #请问这个张量中总共有多少元素呢\n",
    "output_ = len(mnist.targets.unique()) "
   ]
  },
  {
   "cell_type": "code",
   "execution_count": 32,
   "id": "f6abf1c9",
   "metadata": {},
   "outputs": [],
   "source": [
    "# 定义神经网络的架构\n",
    "class Model(nn.Module):\n",
    "    def __init__(self,in_features=10,out_features=2):\n",
    "        super().__init__()\n",
    "        # self.normalize = nn.BatchNorm2d(num_features=1)\n",
    "        self.linear1 = nn.Linear(in_features,128,bias=False)\n",
    "        self.output = nn.Linear(128,out_features,bias=False)\n",
    "        \n",
    "    def forward(self,x):\n",
    "        # x = self.normalize(x)\n",
    "        # view(-1,) 需要对数据结构进行一个改变，-1作为占位符，表示请pytorch帮助我们自动计算-1这个位置的维度应该是多少\n",
    "        x = x.view(-1,28*28)\n",
    "        sigma1 = torch.relu(self.linear1(x))\n",
    "        sigma2 = F.log_softmax(self.output(sigma1),dim=1)\n",
    "        return sigma2"
   ]
  },
  {
   "cell_type": "code",
   "execution_count": 33,
   "id": "261cefc1",
   "metadata": {},
   "outputs": [],
   "source": [
    "# 定义损失函数，优化算法，梯度下降的流程"
   ]
  },
  {
   "cell_type": "code",
   "execution_count": 57,
   "id": "8f618e9b",
   "metadata": {},
   "outputs": [],
   "source": [
    "# 定义一个训练函数\n",
    "def fit_(net,batchdata,lr=0.01,epochs=5,gamma=0):\n",
    "    # 定义损失函数\n",
    "    criterion = nn.NLLLoss()\n",
    "    # 定义优化算法\n",
    "    opt = optim.SGD(net.parameters(),lr=lr,momentum=gamma)\n",
    "    \n",
    "    # 预测正确的样本数量\n",
    "    correct = 0\n",
    "    # 模型训练过的样本数量\n",
    "    samples = 0\n",
    "    \n",
    "    for epoch in range(epochs):# 全数据被训练几次\n",
    "        # enumerate 给元素加索引\n",
    "        for batch_idx,(x,y) in enumerate(batchdata):\n",
    "            y = y.view(x.shape[0]) # 多分类将label将为一维防止报错\n",
    "            # 向前传播\n",
    "            sigma = net.forward(x) \n",
    "            # 计算本轮向前传播的损失函数值\n",
    "            loss = criterion(sigma,y)\n",
    "            # 反向传播 - 得到梯度\n",
    "            loss.backward()\n",
    "            # 更新权重和动量\n",
    "            opt.step()# 走一步，更新权重w, 更新动量v\n",
    "            # 清空梯度 - 清除原来计算出来的，基于上一个点的坐标计算的梯度\n",
    "            opt.zero_grad()\n",
    "            \n",
    "            # 求解准确率：全部判断正确的样本数量/已经看过的总样本量\n",
    "            yhat = torch.max(sigma,1)[1]# 也就是预测标签 <=> torch.max函数结果中索引为1的部分\n",
    "            correct += torch.sum(yhat == y)\n",
    "\n",
    "            # 每次训练一个batch，模型训练过的样本数量加x.shape[0]\n",
    "            samples += x.shape[0]\n",
    "        \n",
    "            # 每n个batch就打印一次\n",
    "            if (batch_idx+1)%125 == 0 or batch_idx == len(batchdata)-1:\n",
    "                #分子代表:已经查看过的数据有多少\n",
    "                #分母代表:在现有的epochs 设置，模型一共需要查看多少数据\n",
    "                print(f\"Epoch{epoch+1}:[{samples}/{epochs*len(batchdata.dataset)}({100*samples/(epochs*len(batchdata.dataset)):.2f})%],Loss:{loss.data.item():.2f},Accuracy:{100*correct/samples:.2f}%\")"
   ]
  },
  {
   "cell_type": "code",
   "execution_count": 59,
   "id": "5fa4a51f",
   "metadata": {},
   "outputs": [
    {
     "name": "stdout",
     "output_type": "stream",
     "text": [
      "Epoch1:[16000/600000(2.67)%],Loss:0.68,Accuracy:64.74%\n",
      "Epoch1:[32000/600000(5.33)%],Loss:0.63,Accuracy:70.81%\n",
      "Epoch1:[48000/600000(8.00)%],Loss:0.49,Accuracy:73.84%\n",
      "Epoch1:[60000/600000(10.00)%],Loss:0.48,Accuracy:75.22%\n",
      "Epoch2:[76000/600000(12.67)%],Loss:0.58,Accuracy:76.72%\n",
      "Epoch2:[92000/600000(15.33)%],Loss:0.42,Accuracy:77.77%\n",
      "Epoch2:[108000/600000(18.00)%],Loss:0.48,Accuracy:78.57%\n",
      "Epoch2:[120000/600000(20.00)%],Loss:0.46,Accuracy:79.15%\n",
      "Epoch3:[136000/600000(22.67)%],Loss:0.51,Accuracy:79.74%\n",
      "Epoch3:[152000/600000(25.33)%],Loss:0.41,Accuracy:80.33%\n",
      "Epoch3:[168000/600000(28.00)%],Loss:0.47,Accuracy:80.78%\n",
      "Epoch3:[180000/600000(30.00)%],Loss:0.37,Accuracy:81.07%\n",
      "Epoch4:[196000/600000(32.67)%],Loss:0.51,Accuracy:81.46%\n",
      "Epoch4:[212000/600000(35.33)%],Loss:0.30,Accuracy:81.81%\n",
      "Epoch4:[228000/600000(38.00)%],Loss:0.33,Accuracy:82.09%\n",
      "Epoch4:[240000/600000(40.00)%],Loss:0.39,Accuracy:82.28%\n",
      "Epoch5:[256000/600000(42.67)%],Loss:0.43,Accuracy:82.56%\n",
      "Epoch5:[272000/600000(45.33)%],Loss:0.20,Accuracy:82.81%\n",
      "Epoch5:[288000/600000(48.00)%],Loss:0.23,Accuracy:83.00%\n",
      "Epoch5:[300000/600000(50.00)%],Loss:0.30,Accuracy:83.16%\n",
      "Epoch6:[316000/600000(52.67)%],Loss:0.29,Accuracy:83.37%\n",
      "Epoch6:[332000/600000(55.33)%],Loss:0.44,Accuracy:83.55%\n",
      "Epoch6:[348000/600000(58.00)%],Loss:0.44,Accuracy:83.72%\n",
      "Epoch6:[360000/600000(60.00)%],Loss:0.40,Accuracy:83.83%\n",
      "Epoch7:[376000/600000(62.67)%],Loss:0.32,Accuracy:84.00%\n",
      "Epoch7:[392000/600000(65.33)%],Loss:0.35,Accuracy:84.16%\n",
      "Epoch7:[408000/600000(68.00)%],Loss:0.29,Accuracy:84.29%\n",
      "Epoch7:[420000/600000(70.00)%],Loss:0.38,Accuracy:84.39%\n",
      "Epoch8:[436000/600000(72.67)%],Loss:0.35,Accuracy:84.55%\n",
      "Epoch8:[452000/600000(75.33)%],Loss:0.35,Accuracy:84.66%\n",
      "Epoch8:[468000/600000(78.00)%],Loss:0.31,Accuracy:84.77%\n",
      "Epoch8:[480000/600000(80.00)%],Loss:0.43,Accuracy:84.85%\n",
      "Epoch9:[496000/600000(82.67)%],Loss:0.35,Accuracy:84.96%\n",
      "Epoch9:[512000/600000(85.33)%],Loss:0.53,Accuracy:85.06%\n",
      "Epoch9:[528000/600000(88.00)%],Loss:0.39,Accuracy:85.17%\n",
      "Epoch9:[540000/600000(90.00)%],Loss:0.43,Accuracy:85.25%\n",
      "Epoch10:[556000/600000(92.67)%],Loss:0.37,Accuracy:85.34%\n",
      "Epoch10:[572000/600000(95.33)%],Loss:0.29,Accuracy:85.44%\n",
      "Epoch10:[588000/600000(98.00)%],Loss:0.30,Accuracy:85.53%\n",
      "Epoch10:[600000/600000(100.00)%],Loss:0.36,Accuracy:85.60%\n"
     ]
    }
   ],
   "source": [
    "# 模型训练与评估\n",
    "torch.manual_seed(420)\n",
    "net = Model(in_features=input_,out_features=output_)\n",
    "fit_(net,batchdata,lr=lr,epochs=epochs,gamma=gamma)"
   ]
  },
  {
   "cell_type": "code",
   "execution_count": null,
   "id": "da868a0b",
   "metadata": {},
   "outputs": [],
   "source": []
  }
 ],
 "metadata": {
  "kernelspec": {
   "display_name": "pytorch3.9",
   "language": "python",
   "name": "pytorch3.9"
  },
  "language_info": {
   "codemirror_mode": {
    "name": "ipython",
    "version": 3
   },
   "file_extension": ".py",
   "mimetype": "text/x-python",
   "name": "python",
   "nbconvert_exporter": "python",
   "pygments_lexer": "ipython3",
   "version": "3.9.16"
  },
  "toc": {
   "base_numbering": 1,
   "nav_menu": {},
   "number_sections": true,
   "sideBar": true,
   "skip_h1_title": false,
   "title_cell": "Table of Contents",
   "title_sidebar": "Contents",
   "toc_cell": false,
   "toc_position": {},
   "toc_section_display": true,
   "toc_window_display": false
  }
 },
 "nbformat": 4,
 "nbformat_minor": 5
}
