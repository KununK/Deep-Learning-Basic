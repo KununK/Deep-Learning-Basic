{
 "cells": [
  {
   "cell_type": "code",
   "execution_count": 1,
   "id": "f02ddd02",
   "metadata": {},
   "outputs": [],
   "source": [
    "import torch"
   ]
  },
  {
   "cell_type": "code",
   "execution_count": 2,
   "id": "f6bca51c",
   "metadata": {},
   "outputs": [],
   "source": [
    "# z = b + w1x1 + w2x2 ,  z = Xw"
   ]
  },
  {
   "cell_type": "code",
   "execution_count": 17,
   "id": "55bb3e0c",
   "metadata": {},
   "outputs": [
    {
     "data": {
      "text/plain": [
       "tensor([[1., 0., 0.],\n",
       "        [1., 1., 0.],\n",
       "        [1., 0., 1.],\n",
       "        [1., 1., 1.]])"
      ]
     },
     "execution_count": 17,
     "metadata": {},
     "output_type": "execute_result"
    }
   ],
   "source": [
    "# 因为大部份pytorch要判断数据类型，所以在定义的时候给出，降低时间复杂度\n",
    "X = torch.tensor([[1,0,0],[1,1,0],[1,0,1],[1,1,1.]],dtype = torch.float32)\n",
    "X"
   ]
  },
  {
   "cell_type": "code",
   "execution_count": 5,
   "id": "a656726a",
   "metadata": {},
   "outputs": [
    {
     "data": {
      "text/plain": [
       "torch.Size([4, 3])"
      ]
     },
     "execution_count": 5,
     "metadata": {},
     "output_type": "execute_result"
    }
   ],
   "source": [
    "X.shape"
   ]
  },
  {
   "cell_type": "code",
   "execution_count": 27,
   "id": "f188b53a",
   "metadata": {},
   "outputs": [
    {
     "data": {
      "text/plain": [
       "tensor([[-0.2000],\n",
       "        [ 0.1500],\n",
       "        [ 0.1500]])"
      ]
     },
     "execution_count": 27,
     "metadata": {},
     "output_type": "execute_result"
    }
   ],
   "source": [
    "# w顺序（b,w1,w2） 注意 w的b 与 X的截距的顺序\n",
    "# 大部分时候，张量定义成float32 ，对于标签来说，先定义成二维张量。\n",
    "w = torch.tensor([-0.2,0.15,0.15],dtype = torch.float32 ).reshape(3,1) # (b,w1,w2)\n",
    "w"
   ]
  },
  {
   "cell_type": "code",
   "execution_count": 15,
   "id": "df8ccf2f",
   "metadata": {},
   "outputs": [],
   "source": [
    "def LinearR(X,w):\n",
    "    zhat = torch.mm(X,w)\n",
    "    return zhat"
   ]
  },
  {
   "cell_type": "code",
   "execution_count": 24,
   "id": "736ebdcf",
   "metadata": {},
   "outputs": [
    {
     "data": {
      "text/plain": [
       "tensor([[-0.2000],\n",
       "        [-0.0500],\n",
       "        [-0.0500],\n",
       "        [ 0.1000]])"
      ]
     },
     "execution_count": 24,
     "metadata": {},
     "output_type": "execute_result"
    }
   ],
   "source": [
    "zhat = LinearR(X,w)\n",
    "zhat"
   ]
  },
  {
   "cell_type": "code",
   "execution_count": 25,
   "id": "5a60bac0",
   "metadata": {},
   "outputs": [
    {
     "data": {
      "text/plain": [
       "tensor([[-0.2000],\n",
       "        [-0.0500],\n",
       "        [-0.0500],\n",
       "        [ 0.1000]])"
      ]
     },
     "execution_count": 25,
     "metadata": {},
     "output_type": "execute_result"
    }
   ],
   "source": [
    "z = torch.tensor([-0.2,-0.05,-0.05,0.1],dtype = torch.float32).reshape(4,1)\n",
    "z"
   ]
  },
  {
   "cell_type": "markdown",
   "id": "c959e8bc",
   "metadata": {},
   "source": [
    "    1.很多函数不接受浮点型的分类标签\n",
    "    2.很多函数要求真实标签的类型与预测标签的类型一致\n",
    "    3.很多函数不接受一维张量\n",
    "    4.很多函数不接受二维标签\n",
    "    大部分时候，张量定义成float32 ，对于标签来说，先定义成二维张量。"
   ]
  },
  {
   "cell_type": "code",
   "execution_count": 26,
   "id": "8a6d7cc1",
   "metadata": {},
   "outputs": [
    {
     "data": {
      "text/plain": [
       "tensor([[ True],\n",
       "        [False],\n",
       "        [False],\n",
       "        [False]])"
      ]
     },
     "execution_count": 26,
     "metadata": {},
     "output_type": "execute_result"
    }
   ],
   "source": [
    "zhat == z"
   ]
  },
  {
   "cell_type": "code",
   "execution_count": 29,
   "id": "6ebb0c0d",
   "metadata": {},
   "outputs": [
    {
     "data": {
      "text/plain": [
       "tensor([8.3267e-17])"
      ]
     },
     "execution_count": 29,
     "metadata": {},
     "output_type": "execute_result"
    }
   ],
   "source": [
    "# sse = sigma((真实值 - 预测值)**2)\n",
    "sse = sum((zhat - z)**2)\n",
    "sse"
   ]
  },
  {
   "cell_type": "code",
   "execution_count": 30,
   "id": "b9f2777b",
   "metadata": {},
   "outputs": [],
   "source": [
    "# 设置显示精度，再来看yhat和y_req\n",
    "# 看小数点后面30位的情况\n",
    "torch.set_printoptions(precision=30)"
   ]
  },
  {
   "cell_type": "code",
   "execution_count": 31,
   "id": "92eadfb6",
   "metadata": {},
   "outputs": [
    {
     "data": {
      "text/plain": [
       "tensor([[-0.200000002980232238769531250000],\n",
       "        [-0.049999997019767761230468750000],\n",
       "        [-0.049999997019767761230468750000],\n",
       "        [ 0.100000008940696716308593750000]])"
      ]
     },
     "execution_count": 31,
     "metadata": {},
     "output_type": "execute_result"
    }
   ],
   "source": [
    "zhat"
   ]
  },
  {
   "cell_type": "code",
   "execution_count": 32,
   "id": "420a1839",
   "metadata": {},
   "outputs": [
    {
     "data": {
      "text/plain": [
       "tensor([[-0.200000002980232238769531250000],\n",
       "        [-0.050000000745058059692382812500],\n",
       "        [-0.050000000745058059692382812500],\n",
       "        [ 0.100000001490116119384765625000]])"
      ]
     },
     "execution_count": 32,
     "metadata": {},
     "output_type": "execute_result"
    }
   ],
   "source": [
    "z"
   ]
  },
  {
   "cell_type": "code",
   "execution_count": 33,
   "id": "1be67140",
   "metadata": {},
   "outputs": [
    {
     "data": {
      "text/plain": [
       "tensor([[ True],\n",
       "        [False],\n",
       "        [False],\n",
       "        [False]])"
      ]
     },
     "execution_count": 33,
     "metadata": {},
     "output_type": "execute_result"
    }
   ],
   "source": [
    "z == zhat"
   ]
  },
  {
   "cell_type": "markdown",
   "id": "9399f5b9",
   "metadata": {},
   "source": [
    "fLoat32由于只保留32位，所以精确性会有一些问题<br>\n",
    "torch.mv这个两数在进行计算的时候，内部计算时会出现一些很微小的精度问题"
   ]
  },
  {
   "cell_type": "code",
   "execution_count": 35,
   "id": "dde8bd65",
   "metadata": {},
   "outputs": [
    {
     "data": {
      "text/plain": [
       "True"
      ]
     },
     "execution_count": 35,
     "metadata": {},
     "output_type": "execute_result"
    }
   ],
   "source": [
    "torch.allclose(z,zhat)"
   ]
  },
  {
   "cell_type": "markdown",
   "id": "85f0cbb9",
   "metadata": {},
   "source": [
    "规整代码："
   ]
  },
  {
   "cell_type": "code",
   "execution_count": 36,
   "id": "4861473c",
   "metadata": {},
   "outputs": [
    {
     "data": {
      "text/plain": [
       "tensor([[-0.200000002980232238769531250000],\n",
       "        [-0.049999997019767761230468750000],\n",
       "        [-0.049999997019767761230468750000],\n",
       "        [ 0.100000008940696716308593750000]])"
      ]
     },
     "execution_count": 36,
     "metadata": {},
     "output_type": "execute_result"
    }
   ],
   "source": [
    "import torch\n",
    "X = torch.tensor([[1,0,0],[1,1,0],[1,0,1],[1,1,1.]],dtype = torch.float32)\n",
    "w = torch.tensor([-0.2,0.15,0.15],dtype = torch.float32 ).reshape(3,1)\n",
    "z = torch.tensor([-0.2,-0.05,-0.05,0.1],dtype = torch.float32).reshape(4,1)\n",
    "def LinearR(X,w):\n",
    "    zhat = torch.mm(X,w)\n",
    "    return zhat\n",
    "zhat = LinearR(X,w)\n",
    "zhat"
   ]
  }
 ],
 "metadata": {
  "kernelspec": {
   "display_name": "pytorch3.9",
   "language": "python",
   "name": "pytorch3.9"
  },
  "language_info": {
   "codemirror_mode": {
    "name": "ipython",
    "version": 3
   },
   "file_extension": ".py",
   "mimetype": "text/x-python",
   "name": "python",
   "nbconvert_exporter": "python",
   "pygments_lexer": "ipython3",
   "version": "3.9.16"
  },
  "toc": {
   "base_numbering": 1,
   "nav_menu": {},
   "number_sections": true,
   "sideBar": true,
   "skip_h1_title": false,
   "title_cell": "Table of Contents",
   "title_sidebar": "Contents",
   "toc_cell": false,
   "toc_position": {},
   "toc_section_display": true,
   "toc_window_display": false
  }
 },
 "nbformat": 4,
 "nbformat_minor": 5
}
