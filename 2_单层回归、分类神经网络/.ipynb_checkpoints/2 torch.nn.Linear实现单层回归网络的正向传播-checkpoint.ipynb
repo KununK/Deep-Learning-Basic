{
 "cells": [
  {
   "cell_type": "code",
   "execution_count": 3,
   "id": "9555e5a3",
   "metadata": {},
   "outputs": [],
   "source": [
    "import torch"
   ]
  },
  {
   "cell_type": "code",
   "execution_count": 4,
   "id": "b0920c56",
   "metadata": {},
   "outputs": [
    {
     "data": {
      "text/plain": [
       "tensor([[0., 0.],\n",
       "        [1., 0.],\n",
       "        [0., 1.],\n",
       "        [1., 1.]])"
      ]
     },
     "execution_count": 4,
     "metadata": {},
     "output_type": "execute_result"
    }
   ],
   "source": [
    "X = torch.tensor([[0,0],[1,0],[0,1],[1,1]],dtype = torch.float32)\n",
    "X"
   ]
  },
  {
   "cell_type": "markdown",
   "id": "686ff4e1",
   "metadata": {},
   "source": [
    "<li> 实例化nn.Linear类<br>\n",
    "    不需要定义 w 和 b 因为nn.module 子类在实例化时自动随机生成 w 和 b 。"
   ]
  },
  {
   "cell_type": "code",
   "execution_count": 5,
   "id": "48e3ee6f",
   "metadata": {},
   "outputs": [],
   "source": [
    "# 人为设置随机数种子 仅在一个cell中生效\n",
    "torch.random.manual_seed(10)\n",
    "# 实例化nn.Linear类\n",
    "output = torch.nn.Linear(2,1,bias = True)\n",
    "# 第一个参数：上一层的神经元个数 (上一层的神经元中，给现在这一层传输数据的神经元的个数)\n",
    "# 第二个参数：这一层的神经元个数 (接收传输数据的神经元的个数)"
   ]
  },
  {
   "cell_type": "markdown",
   "id": "e4846259",
   "metadata": {},
   "source": [
    "nn.module 子类在实例化时自动生成 w 和 b 。"
   ]
  },
  {
   "cell_type": "code",
   "execution_count": 6,
   "id": "276043a2",
   "metadata": {},
   "outputs": [
    {
     "data": {
      "text/plain": [
       "Parameter containing:\n",
       "tensor([[-0.0593, -0.0242]], requires_grad=True)"
      ]
     },
     "execution_count": 6,
     "metadata": {},
     "output_type": "execute_result"
    }
   ],
   "source": [
    "output.weight"
   ]
  },
  {
   "cell_type": "code",
   "execution_count": 7,
   "id": "caabaf98",
   "metadata": {},
   "outputs": [
    {
     "data": {
      "text/plain": [
       "Parameter containing:\n",
       "tensor([-0.2652], requires_grad=True)"
      ]
     },
     "execution_count": 7,
     "metadata": {},
     "output_type": "execute_result"
    }
   ],
   "source": [
    "output.bias"
   ]
  },
  {
   "cell_type": "markdown",
   "id": "6d015d1f",
   "metadata": {},
   "source": [
    "<li>调用实例化类"
   ]
  },
  {
   "cell_type": "code",
   "execution_count": 8,
   "id": "d4e19f9c",
   "metadata": {},
   "outputs": [
    {
     "data": {
      "text/plain": [
       "tensor([[-0.2652],\n",
       "        [-0.3244],\n",
       "        [-0.2894],\n",
       "        [-0.3487]], grad_fn=<AddmmBackward0>)"
      ]
     },
     "execution_count": 8,
     "metadata": {},
     "output_type": "execute_result"
    }
   ],
   "source": [
    "zhat = output(X)\n",
    "zhat"
   ]
  },
  {
   "cell_type": "code",
   "execution_count": 9,
   "id": "7c5989e0",
   "metadata": {},
   "outputs": [
    {
     "data": {
      "text/plain": [
       "tensor([[-0.2000],\n",
       "        [-0.0500],\n",
       "        [-0.0500],\n",
       "        [ 0.1000]])"
      ]
     },
     "execution_count": 9,
     "metadata": {},
     "output_type": "execute_result"
    }
   ],
   "source": [
    "z = torch.tensor([-0.2,-0.05,-0.05,0.1],dtype = torch.float32).reshape(4,1)\n",
    "z"
   ]
  }
 ],
 "metadata": {
  "kernelspec": {
   "display_name": "pytorch3.9",
   "language": "python",
   "name": "pytorch3.9"
  },
  "language_info": {
   "codemirror_mode": {
    "name": "ipython",
    "version": 3
   },
   "file_extension": ".py",
   "mimetype": "text/x-python",
   "name": "python",
   "nbconvert_exporter": "python",
   "pygments_lexer": "ipython3",
   "version": "3.9.16"
  },
  "toc": {
   "base_numbering": 1,
   "nav_menu": {},
   "number_sections": true,
   "sideBar": true,
   "skip_h1_title": false,
   "title_cell": "Table of Contents",
   "title_sidebar": "Contents",
   "toc_cell": false,
   "toc_position": {},
   "toc_section_display": true,
   "toc_window_display": false
  }
 },
 "nbformat": 4,
 "nbformat_minor": 5
}
