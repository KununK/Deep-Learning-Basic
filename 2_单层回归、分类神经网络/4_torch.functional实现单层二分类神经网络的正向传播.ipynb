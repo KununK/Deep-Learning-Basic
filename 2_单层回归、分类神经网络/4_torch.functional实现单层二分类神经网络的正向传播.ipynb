{
 "cells": [
  {
   "cell_type": "code",
   "execution_count": 18,
   "id": "7e1c5200",
   "metadata": {},
   "outputs": [],
   "source": [
    "import torch\n",
    "from torch.nn import functional as F"
   ]
  },
  {
   "cell_type": "markdown",
   "id": "38d8503d",
   "metadata": {},
   "source": [
    "<li>sigmoid函数"
   ]
  },
  {
   "cell_type": "code",
   "execution_count": 19,
   "id": "210ab750",
   "metadata": {},
   "outputs": [
    {
     "data": {
      "text/plain": [
       "tensor([[0., 0.],\n",
       "        [1., 0.],\n",
       "        [0., 1.],\n",
       "        [1., 1.]])"
      ]
     },
     "execution_count": 19,
     "metadata": {},
     "output_type": "execute_result"
    }
   ],
   "source": [
    "X = torch.tensor([[0,0],[1,0],[0,1],[1,1]],dtype = torch.float32)\n",
    "X"
   ]
  },
  {
   "cell_type": "code",
   "execution_count": 20,
   "id": "57ca7706",
   "metadata": {},
   "outputs": [],
   "source": [
    "# 设置随机数种子 仅在一个cell中生效\n",
    "torch.random.manual_seed(10)\n",
    "# 实例化torch.nn.Linear\n",
    "dense = torch.nn.Linear(2,1)\n",
    "zhat = dense(X)\n",
    "sigma = F.sigmoid(zhat)\n",
    "y = [int(x) for x in sigma >= 0.5]"
   ]
  },
  {
   "cell_type": "code",
   "execution_count": 21,
   "id": "5644f2ef",
   "metadata": {},
   "outputs": [
    {
     "data": {
      "text/plain": [
       "Parameter containing:\n",
       "tensor([-0.2652], requires_grad=True)"
      ]
     },
     "execution_count": 21,
     "metadata": {},
     "output_type": "execute_result"
    }
   ],
   "source": [
    "dense.bias"
   ]
  },
  {
   "cell_type": "code",
   "execution_count": 22,
   "id": "5d0d3ae4",
   "metadata": {},
   "outputs": [
    {
     "data": {
      "text/plain": [
       "[0, 0, 0, 0]"
      ]
     },
     "execution_count": 22,
     "metadata": {},
     "output_type": "execute_result"
    }
   ],
   "source": [
    "y"
   ]
  },
  {
   "cell_type": "code",
   "execution_count": 23,
   "id": "bc327c38",
   "metadata": {},
   "outputs": [
    {
     "data": {
      "text/plain": [
       "tensor([[-0.2652],\n",
       "        [-0.3244],\n",
       "        [-0.2894],\n",
       "        [-0.3487]], grad_fn=<AddmmBackward0>)"
      ]
     },
     "execution_count": 23,
     "metadata": {},
     "output_type": "execute_result"
    }
   ],
   "source": [
    "zhat"
   ]
  },
  {
   "cell_type": "markdown",
   "id": "4d2d8dad",
   "metadata": {},
   "source": [
    "<li> 符号函数、阶跃函数sign"
   ]
  },
  {
   "cell_type": "code",
   "execution_count": 14,
   "id": "9bec748a",
   "metadata": {},
   "outputs": [
    {
     "data": {
      "text/plain": [
       "tensor([[-1.],\n",
       "        [-1.],\n",
       "        [-1.],\n",
       "        [-1.]], grad_fn=<SignBackward0>)"
      ]
     },
     "execution_count": 14,
     "metadata": {},
     "output_type": "execute_result"
    }
   ],
   "source": [
    "torch.sign(zhat)"
   ]
  },
  {
   "cell_type": "markdown",
   "id": "fbea05b3",
   "metadata": {},
   "source": [
    "<li>流线型单元函数ReLU"
   ]
  },
  {
   "cell_type": "code",
   "execution_count": 26,
   "id": "57a42f26",
   "metadata": {},
   "outputs": [
    {
     "data": {
      "text/plain": [
       "tensor([[0.],\n",
       "        [0.],\n",
       "        [0.],\n",
       "        [0.]], grad_fn=<ReluBackward0>)"
      ]
     },
     "execution_count": 26,
     "metadata": {},
     "output_type": "execute_result"
    }
   ],
   "source": [
    "F.relu(zhat)"
   ]
  },
  {
   "cell_type": "markdown",
   "id": "93675bb4",
   "metadata": {},
   "source": [
    "<li> 双曲正切函数tanh"
   ]
  },
  {
   "cell_type": "code",
   "execution_count": 24,
   "id": "57533c8e",
   "metadata": {},
   "outputs": [
    {
     "data": {
      "text/plain": [
       "tensor([[-0.2591],\n",
       "        [-0.3135],\n",
       "        [-0.2816],\n",
       "        [-0.3352]], grad_fn=<TanhBackward0>)"
      ]
     },
     "execution_count": 24,
     "metadata": {},
     "output_type": "execute_result"
    }
   ],
   "source": [
    "torch.tanh(zhat)"
   ]
  }
 ],
 "metadata": {
  "kernelspec": {
   "display_name": "pytorch3.9",
   "language": "python",
   "name": "pytorch3.9"
  },
  "language_info": {
   "codemirror_mode": {
    "name": "ipython",
    "version": 3
   },
   "file_extension": ".py",
   "mimetype": "text/x-python",
   "name": "python",
   "nbconvert_exporter": "python",
   "pygments_lexer": "ipython3",
   "version": "3.9.16"
  },
  "toc": {
   "base_numbering": 1,
   "nav_menu": {},
   "number_sections": true,
   "sideBar": true,
   "skip_h1_title": false,
   "title_cell": "Table of Contents",
   "title_sidebar": "Contents",
   "toc_cell": false,
   "toc_position": {},
   "toc_section_display": true,
   "toc_window_display": false
  }
 },
 "nbformat": 4,
 "nbformat_minor": 5
}
