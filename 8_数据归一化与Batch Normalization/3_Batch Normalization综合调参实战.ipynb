{
 "cells": [
  {
   "cell_type": "markdown",
   "id": "30ed79fd",
   "metadata": {},
   "source": [
    "#  带BN层的神经网络模型综合调整策略总结"
   ]
  },
  {
   "cell_type": "markdown",
   "id": "f74579d5",
   "metadata": {},
   "source": [
    "最后，我们总结下截至目前，针对BN层的神经网络模型调参策略"
   ]
  },
  {
   "cell_type": "markdown",
   "id": "275b2f83",
   "metadata": {},
   "source": [
    "<li>简单数据、简单模型下不用BN层，加入BN层效果并不显著<br>\n",
    "<li>BN层的使用需要保持running_mean和running_var的无偏性，因此需要谨慎调整batch_size;<br>\n",
    "<li>学习率是重要的模型优化的超参数，一般来说学习率学习曲线都是U型曲线;<br>\n",
    "<li>从学习率调整角度出发，对于加入BN层的模型，学习率调整更加有效，对于带BN层模型角度来说BN层能够帮助模型拓展优化空间，使得很多优化方法都能在原先无效的模型上生效;<br>\n",
    "<li>对于复杂问题，在计算能力能够承担的范围内，应当首先构建带BN层的复杂模型，然后再试图进行优化，就像上文所述，很多优化方法只对带BN层的模型有效;<br>"
   ]
  },
  {
   "cell_type": "markdown",
   "id": "b937294f",
   "metadata": {},
   "source": [
    "其他拓展方面结论"
   ]
  },
  {
   "cell_type": "markdown",
   "id": "6db5fc02",
   "metadata": {},
   "source": [
    "<li>关于BN和Xavier/Kaiming方法，一般来说，使用BN层的模型本再会用参数初始化方法，从理论上来看添加BN层能够起到参数初始化的相等效果(另外，带BN层模型一般也不需要使用Dropout方法)<br>\n",
    "<li>本节尚未讨论ReLU激活函数的优化，相关优化方法将放在后续进行详细讨论，但需要知道的是，对于ReLU叠加的模型来说，加入BN层之后能够有效缓解Dead RelU Problem，此时无须刻意调小学习率能够在收敛速度和运算结果间保持较好的平衡<br>\n",
    "<li>BN层是目前大部分深度学习模型的标配，，但前提是你有能力去对其进行优化<br>"
   ]
  },
  {
   "cell_type": "code",
   "execution_count": 1,
   "id": "59564f24",
   "metadata": {},
   "outputs": [],
   "source": [
    "import torch.nn as nn"
   ]
  },
  {
   "cell_type": "code",
   "execution_count": null,
   "id": "f770eaf5",
   "metadata": {},
   "outputs": [],
   "source": [
    "nn.ReLU()\n",
    "nn.Softmax()"
   ]
  }
 ],
 "metadata": {
  "kernelspec": {
   "display_name": "pytorch3.9",
   "language": "python",
   "name": "pytorch3.9"
  },
  "language_info": {
   "codemirror_mode": {
    "name": "ipython",
    "version": 3
   },
   "file_extension": ".py",
   "mimetype": "text/x-python",
   "name": "python",
   "nbconvert_exporter": "python",
   "pygments_lexer": "ipython3",
   "version": "3.9.16"
  },
  "toc": {
   "base_numbering": 1,
   "nav_menu": {},
   "number_sections": true,
   "sideBar": true,
   "skip_h1_title": false,
   "title_cell": "Table of Contents",
   "title_sidebar": "Contents",
   "toc_cell": false,
   "toc_position": {},
   "toc_section_display": true,
   "toc_window_display": false
  }
 },
 "nbformat": 4,
 "nbformat_minor": 5
}
