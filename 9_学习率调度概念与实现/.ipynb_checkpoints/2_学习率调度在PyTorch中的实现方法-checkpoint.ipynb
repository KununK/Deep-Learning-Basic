{
 "cells": [
  {
   "cell_type": "code",
   "execution_count": 3,
   "id": "dc8b6119",
   "metadata": {},
   "outputs": [],
   "source": [
    "from torch.optim import lr_scheduler\n",
    "\n",
    "def fit_rec_sc(net,criterion,optimizer,train_data,test_data,epochs=3,cla = False,eva = mse_cal):\n",
    "    '''\n",
    "    加入学习率调度后的模型训练函数(记录每一次遍历后模型评估指标)\n",
    "    :param net:待训练的模型\n",
    "    :param criterion:损失函数\n",
    "    :param optimizer:优化算法\n",
    "    :param train_data: 训练数据\n",
    "    :param test_data: 测试数据\n",
    "    :param scheduler:学习率调度器\n",
    "    :param epochs: 遍历数据次数\n",
    "    :param cla: 是否是分类问题\n",
    "    :param eva: 模型评估方法\n",
    "    :return:模型评估结果\n",
    "    '''\n",
    "    train_l = []\n",
    "    test_l = []\n",
    "    for epochs in range(epochs):\n",
    "        net.train()\n",
    "        for X,y in train_data:\n",
    "            # 如果是分类问题，需要对y进行整数转化\n",
    "            if cla == True:\n",
    "                y = y.flatten().long()\n",
    "            yhat = net.forward(X)\n",
    "            loss = criterion(yhat,y)\n",
    "            optimizer.zero_grad()\n",
    "            loss.backward()\n",
    "            optimizer.step()\n",
    "        scheduler.step()\n",
    "        net.eval()\n",
    "        train_l.append(eva(train_data,net).detach())\n",
    "        test_l.append(eva(test_data,net).detach())\n",
    "    return train_l,test_l"
   ]
  },
  {
   "cell_type": "code",
   "execution_count": null,
   "id": "06fbbafe",
   "metadata": {},
   "outputs": [],
   "source": []
  }
 ],
 "metadata": {
  "kernelspec": {
   "display_name": "pytorch3.9",
   "language": "python",
   "name": "pytorch3.9"
  },
  "language_info": {
   "codemirror_mode": {
    "name": "ipython",
    "version": 3
   },
   "file_extension": ".py",
   "mimetype": "text/x-python",
   "name": "python",
   "nbconvert_exporter": "python",
   "pygments_lexer": "ipython3",
   "version": "3.9.16"
  },
  "toc": {
   "base_numbering": 1,
   "nav_menu": {},
   "number_sections": true,
   "sideBar": true,
   "skip_h1_title": false,
   "title_cell": "Table of Contents",
   "title_sidebar": "Contents",
   "toc_cell": false,
   "toc_position": {},
   "toc_section_display": true,
   "toc_window_display": false
  }
 },
 "nbformat": 4,
 "nbformat_minor": 5
}
